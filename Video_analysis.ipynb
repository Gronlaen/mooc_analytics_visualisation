{
 "cells": [
  {
   "cell_type": "code",
   "execution_count": 1,
   "metadata": {
    "collapsed": true
   },
   "outputs": [],
   "source": [
    "import pandas as pd\n",
    "import numpy as np\n",
    "import glob\n",
    "import matplotlib.pyplot as plt\n",
    "import matplotlib.patheffects as pe\n",
    "import seaborn as sns\n",
    "import itertools\n",
    "import re\n",
    "import time\n",
    "\n",
    "from collections import Counter\n",
    "\n",
    "sns.set(style=\"white\", color_codes=True,font_scale=1)\n",
    "%matplotlib inline"
   ]
  },
  {
   "cell_type": "code",
   "execution_count": 40,
   "metadata": {
    "collapsed": false
   },
   "outputs": [
    {
     "data": {
      "text/html": [
       "<div>\n",
       "<table border=\"1\" class=\"dataframe\">\n",
       "  <thead>\n",
       "    <tr style=\"text-align: right;\">\n",
       "      <th></th>\n",
       "      <th>DataPackageID</th>\n",
       "      <th>AccountUserID</th>\n",
       "      <th>SessionUserID</th>\n",
       "      <th>TimeStamp</th>\n",
       "      <th>EventType</th>\n",
       "      <th>VideoID</th>\n",
       "      <th>CurrentTime</th>\n",
       "      <th>OldTime</th>\n",
       "      <th>NewTime</th>\n",
       "      <th>SeekType</th>\n",
       "      <th>NewSpeed</th>\n",
       "      <th>YEAR(from_unixtime(TimeStamp))</th>\n",
       "    </tr>\n",
       "  </thead>\n",
       "  <tbody>\n",
       "    <tr>\n",
       "      <th>0</th>\n",
       "      <td>EPFLx-BIO465x-2013_OND</td>\n",
       "      <td>807336</td>\n",
       "      <td>NaN</td>\n",
       "      <td>1389880021</td>\n",
       "      <td>Video.Seek</td>\n",
       "      <td>66fc2e3957e342a3b8bd844a8852d581</td>\n",
       "      <td>NaN</td>\n",
       "      <td>918.370</td>\n",
       "      <td>1117</td>\n",
       "      <td>onSlideSeek</td>\n",
       "      <td>NaN</td>\n",
       "      <td>2014</td>\n",
       "    </tr>\n",
       "    <tr>\n",
       "      <th>1</th>\n",
       "      <td>EPFLx-BIO465x-2013_OND</td>\n",
       "      <td>2770982</td>\n",
       "      <td>NaN</td>\n",
       "      <td>1390821303</td>\n",
       "      <td>Video.Seek</td>\n",
       "      <td>66fc2e3957e342a3b8bd844a8852d581</td>\n",
       "      <td>NaN</td>\n",
       "      <td>299.000</td>\n",
       "      <td>300</td>\n",
       "      <td>onSlideSeek</td>\n",
       "      <td>NaN</td>\n",
       "      <td>2014</td>\n",
       "    </tr>\n",
       "    <tr>\n",
       "      <th>2</th>\n",
       "      <td>EPFLx-BIO465x-2013_OND</td>\n",
       "      <td>2382155</td>\n",
       "      <td>NaN</td>\n",
       "      <td>1386790840</td>\n",
       "      <td>Video.Seek</td>\n",
       "      <td>66fc2e3957e342a3b8bd844a8852d581</td>\n",
       "      <td>NaN</td>\n",
       "      <td>174.000</td>\n",
       "      <td>171</td>\n",
       "      <td>onSlideSeek</td>\n",
       "      <td>NaN</td>\n",
       "      <td>2013</td>\n",
       "    </tr>\n",
       "    <tr>\n",
       "      <th>3</th>\n",
       "      <td>EPFLx-BIO465x-2013_OND</td>\n",
       "      <td>2102927</td>\n",
       "      <td>NaN</td>\n",
       "      <td>1387402052</td>\n",
       "      <td>Video.Seek</td>\n",
       "      <td>66fc2e3957e342a3b8bd844a8852d581</td>\n",
       "      <td>NaN</td>\n",
       "      <td>781.000</td>\n",
       "      <td>820</td>\n",
       "      <td>onSlideSeek</td>\n",
       "      <td>NaN</td>\n",
       "      <td>2013</td>\n",
       "    </tr>\n",
       "    <tr>\n",
       "      <th>4</th>\n",
       "      <td>EPFLx-BIO465x-2013_OND</td>\n",
       "      <td>2017599</td>\n",
       "      <td>NaN</td>\n",
       "      <td>1412624441</td>\n",
       "      <td>Video.Seek</td>\n",
       "      <td>66fc2e3957e342a3b8bd844a8852d581</td>\n",
       "      <td>NaN</td>\n",
       "      <td>313.913</td>\n",
       "      <td>345</td>\n",
       "      <td>onSlideSeek</td>\n",
       "      <td>NaN</td>\n",
       "      <td>2014</td>\n",
       "    </tr>\n",
       "  </tbody>\n",
       "</table>\n",
       "</div>"
      ],
      "text/plain": [
       "            DataPackageID  AccountUserID  SessionUserID   TimeStamp  \\\n",
       "0  EPFLx-BIO465x-2013_OND         807336            NaN  1389880021   \n",
       "1  EPFLx-BIO465x-2013_OND        2770982            NaN  1390821303   \n",
       "2  EPFLx-BIO465x-2013_OND        2382155            NaN  1386790840   \n",
       "3  EPFLx-BIO465x-2013_OND        2102927            NaN  1387402052   \n",
       "4  EPFLx-BIO465x-2013_OND        2017599            NaN  1412624441   \n",
       "\n",
       "    EventType                           VideoID  CurrentTime  OldTime  \\\n",
       "0  Video.Seek  66fc2e3957e342a3b8bd844a8852d581          NaN  918.370   \n",
       "1  Video.Seek  66fc2e3957e342a3b8bd844a8852d581          NaN  299.000   \n",
       "2  Video.Seek  66fc2e3957e342a3b8bd844a8852d581          NaN  174.000   \n",
       "3  Video.Seek  66fc2e3957e342a3b8bd844a8852d581          NaN  781.000   \n",
       "4  Video.Seek  66fc2e3957e342a3b8bd844a8852d581          NaN  313.913   \n",
       "\n",
       "   NewTime     SeekType  NewSpeed  YEAR(from_unixtime(TimeStamp))  \n",
       "0     1117  onSlideSeek       NaN                            2014  \n",
       "1      300  onSlideSeek       NaN                            2014  \n",
       "2      171  onSlideSeek       NaN                            2013  \n",
       "3      820  onSlideSeek       NaN                            2013  \n",
       "4      345  onSlideSeek       NaN                            2014  "
      ]
     },
     "execution_count": 40,
     "metadata": {},
     "output_type": "execute_result"
    }
   ],
   "source": [
    "df_click_views = pd.read_csv('Video_6_4/66fc2e3957e342a3b8bd844a8852d581.csv')\n",
    "df_click_views.head(5)"
   ]
  },
  {
   "cell_type": "code",
   "execution_count": 49,
   "metadata": {
    "collapsed": false
   },
   "outputs": [
    {
     "data": {
      "text/html": [
       "<div>\n",
       "<table border=\"1\" class=\"dataframe\">\n",
       "  <thead>\n",
       "    <tr style=\"text-align: right;\">\n",
       "      <th></th>\n",
       "      <th>created</th>\n",
       "      <th>num_users</th>\n",
       "      <th>num_views</th>\n",
       "      <th>segment</th>\n",
       "    </tr>\n",
       "  </thead>\n",
       "  <tbody>\n",
       "    <tr>\n",
       "      <th>0</th>\n",
       "      <td>2017-02-28T071027</td>\n",
       "      <td>49</td>\n",
       "      <td>78</td>\n",
       "      <td>0</td>\n",
       "    </tr>\n",
       "    <tr>\n",
       "      <th>1</th>\n",
       "      <td>2017-02-28T071027</td>\n",
       "      <td>46</td>\n",
       "      <td>65</td>\n",
       "      <td>1</td>\n",
       "    </tr>\n",
       "    <tr>\n",
       "      <th>2</th>\n",
       "      <td>2017-02-28T071027</td>\n",
       "      <td>45</td>\n",
       "      <td>64</td>\n",
       "      <td>2</td>\n",
       "    </tr>\n",
       "    <tr>\n",
       "      <th>3</th>\n",
       "      <td>2017-02-28T071027</td>\n",
       "      <td>44</td>\n",
       "      <td>60</td>\n",
       "      <td>3</td>\n",
       "    </tr>\n",
       "    <tr>\n",
       "      <th>4</th>\n",
       "      <td>2017-02-28T071027</td>\n",
       "      <td>44</td>\n",
       "      <td>61</td>\n",
       "      <td>4</td>\n",
       "    </tr>\n",
       "  </tbody>\n",
       "</table>\n",
       "</div>"
      ],
      "text/plain": [
       "             created  num_users  num_views  segment\n",
       "0  2017-02-28T071027         49         78        0\n",
       "1  2017-02-28T071027         46         65        1\n",
       "2  2017-02-28T071027         45         64        2\n",
       "3  2017-02-28T071027         44         60        3\n",
       "4  2017-02-28T071027         44         61        4"
      ]
     },
     "execution_count": 49,
     "metadata": {},
     "output_type": "execute_result"
    }
   ],
   "source": [
    "df_views = pd.read_csv('Video_6_4/EPFLx-BIO465x-2013_OND___66fc2e3957e342a3b8bd844a8852d581.csv')\n",
    "df_views.head(5)"
   ]
  },
  {
   "cell_type": "code",
   "execution_count": null,
   "metadata": {
    "collapsed": true
   },
   "outputs": [],
   "source": []
  },
  {
   "cell_type": "code",
   "execution_count": 5,
   "metadata": {
    "collapsed": false
   },
   "outputs": [
    {
     "data": {
      "text/plain": [
       "Index(['DataPackageID', 'AccountUserID', 'SessionUserID', 'TimeStamp',\n",
       "       'EventType', 'VideoID', 'CurrentTime', 'OldTime', 'NewTime', 'SeekType',\n",
       "       'NewSpeed', 'YEAR(from_unixtime(TimeStamp))'],\n",
       "      dtype='object')"
      ]
     },
     "execution_count": 5,
     "metadata": {},
     "output_type": "execute_result"
    }
   ],
   "source": [
    "df_click_views.columns"
   ]
  },
  {
   "cell_type": "code",
   "execution_count": 44,
   "metadata": {
    "collapsed": false
   },
   "outputs": [
    {
     "data": {
      "image/png": "[encoded data removed]",
      "text/plain": [
       "<matplotlib.figure.Figure at 0x112fa6470>"
      ]
     },
     "metadata": {},
     "output_type": "display_data"
    }
   ],
   "source": [
    "user_dict = Counter(df_click_views['AccountUserID'].values).values()\n",
    "user_dict\n",
    "plt.hist(list(user_dict), bins=100);"
   ]
  },
  {
   "cell_type": "code",
   "execution_count": 87,
   "metadata": {
    "collapsed": true
   },
   "outputs": [],
   "source": [
    "def sec_to_min(seconds) :\n",
    "    minutes = int(seconds/60)\n",
    "    secs = seconds%60\n",
    "    return '%02d:%02d' % (minutes, secs)"
   ]
  },
  {
   "cell_type": "code",
   "execution_count": 90,
   "metadata": {
    "collapsed": false
   },
   "outputs": [
    {
     "data": {
      "image/png": "[encoded data removed]",
      "text/plain": [
       "<matplotlib.figure.Figure at 0x112e9e1d0>"
      ]
     },
     "metadata": {},
     "output_type": "display_data"
    }
   ],
   "source": [
    "fig = plt.figure(figsize=(10,5))\n",
    "plt.plot(df_views['num_views'])\n",
    "plt.plot(df_views['num_users'])\n",
    "plt.ylim([0,100])\n",
    "plt.xlim([0,len(df_views)-1])\n",
    "plt.xticks(range(0,len(df_views)-1,5), [sec_to_min(x) for x in range(0,len(df_views)-1,5)], rotation=-60);"
   ]
  },
  {
   "cell_type": "code",
   "execution_count": 72,
   "metadata": {
    "collapsed": false
   },
   "outputs": [
    {
     "data": {
      "text/plain": [
       "2"
      ]
     },
     "execution_count": 72,
     "metadata": {},
     "output_type": "execute_result"
    }
   ],
   "source": []
  }
 ],
 "metadata": {
  "anaconda-cloud": {},
  "kernelspec": {
   "display_name": "Python [conda root]",
   "language": "python",
   "name": "conda-root-py"
  },
  "language_info": {
   "codemirror_mode": {
    "name": "ipython",
    "version": 3
   },
   "file_extension": ".py",
   "mimetype": "text/x-python",
   "name": "python",
   "nbconvert_exporter": "python",
   "pygments_lexer": "ipython3",
   "version": "3.5.2"
  }
 },
 "nbformat": 4,
 "nbformat_minor": 1
}
